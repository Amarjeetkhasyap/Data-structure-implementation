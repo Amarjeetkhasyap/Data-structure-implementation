{
 "cells": [
  {
   "cell_type": "code",
   "execution_count": 123,
   "metadata": {},
   "outputs": [],
   "source": [
    "class node():\n",
    "    def __init__(self,data):\n",
    "        self.data=data\n",
    "        self.next=None\n",
    "class linklist():\n",
    "    def __init__(self):\n",
    "        self.head=None\n",
    "    def insertstart(self,data):\n",
    "        newnode=node(data)\n",
    "        if self.head== None:\n",
    "            self.head=newnode\n",
    "        else:\n",
    "            newnode.next=self.head\n",
    "            self.head=newnode\n",
    "    def insertlast(self,data):\n",
    "        newnode=node(data)\n",
    "        if self.head==None:\n",
    "                self.head = newnode\n",
    "        else:\n",
    "            temp=self.head\n",
    "            while temp.next!= None:\n",
    "                temp=temp.next\n",
    "            temp.next=newnode\n",
    "            \n",
    "                    \n",
    "            \n",
    "    def view(self):\n",
    "        temp = self.head\n",
    "        while temp != None:\n",
    "            print(temp.data,end=' ')\n",
    "            temp=temp.next\n",
    "    def delete(self,data):\n",
    "        if self.head is None:\n",
    "            return\n",
    "        current=self.head\n",
    "        previous=None\n",
    "        while current.data!=data:\n",
    "            previous=current\n",
    "            current=current.next\n",
    "        if previous == None:\n",
    "            self.head=current.next\n",
    "        else:\n",
    "            previous.next=current.next\n",
    "        \n"
   ]
  },
  {
   "cell_type": "code",
   "execution_count": null,
   "metadata": {},
   "outputs": [],
   "source": []
  },
  {
   "cell_type": "code",
   "execution_count": null,
   "metadata": {},
   "outputs": [],
   "source": []
  },
  {
   "cell_type": "code",
   "execution_count": null,
   "metadata": {},
   "outputs": [],
   "source": []
  },
  {
   "cell_type": "code",
   "execution_count": null,
   "metadata": {},
   "outputs": [],
   "source": []
  },
  {
   "cell_type": "markdown",
   "metadata": {},
   "source": []
  },
  {
   "cell_type": "code",
   "execution_count": null,
   "metadata": {},
   "outputs": [],
   "source": []
  },
  {
   "cell_type": "code",
   "execution_count": 121,
   "metadata": {},
   "outputs": [],
   "source": []
  },
  {
   "cell_type": "code",
   "execution_count": null,
   "metadata": {},
   "outputs": [],
   "source": [
    "\n"
   ]
  },
  {
   "cell_type": "code",
   "execution_count": null,
   "metadata": {},
   "outputs": [],
   "source": []
  }
 ],
 "metadata": {
  "kernelspec": {
   "display_name": "Python 3",
   "language": "python",
   "name": "python3"
  },
  "language_info": {
   "codemirror_mode": {
    "name": "ipython",
    "version": 3
   },
   "file_extension": ".py",
   "mimetype": "text/x-python",
   "name": "python",
   "nbconvert_exporter": "python",
   "pygments_lexer": "ipython3",
   "version": "3.7.1"
  }
 },
 "nbformat": 4,
 "nbformat_minor": 2
}
